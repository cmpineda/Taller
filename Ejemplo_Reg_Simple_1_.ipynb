{
 "cells": [
  {
   "cell_type": "markdown",
   "metadata": {
    "id": "N3dviTskahw2"
   },
   "source": [
    "**<center><h2>Ejemplo de regresión simple con LinearRegression</h2></center>**"
   ]
  },
  {
   "cell_type": "code",
   "execution_count": 2,
   "metadata": {
    "id": "y3VgoCI8Z6yK"
   },
   "outputs": [],
   "source": [
    "# se importan los módulos\n",
    "import pandas as pd\n",
    "import numpy as np\n",
    "import matplotlib.pyplot as plt\n",
    "from sklearn.linear_model import LinearRegression"
   ]
  },
  {
   "cell_type": "code",
   "execution_count": 7,
   "metadata": {
    "id": "mxH-n5Owa9ti"
   },
   "outputs": [],
   "source": [
    "# se establecen los datos para x e y\n",
    "x = np.array([1,2,3,4,5,6,7,8,9,10])\n",
    "y = np.array([100,150,200,250,300,350,400,450,500,550])"
   ]
  },
  {
   "cell_type": "code",
   "execution_count": null,
   "metadata": {
    "id": "3VzQX3HpbBvd"
   },
   "outputs": [],
   "source": [
    "# se crea y entrena el modelo\n",
    "modelo = LinearRegression()\n",
    "modelo.fit(x.reshape(-1, 1), y)"
   ]
  },
  {
   "cell_type": "code",
   "execution_count": null,
   "metadata": {
    "id": "hvo6ZV8fbEnx"
   },
   "outputs": [],
   "source": [
    "# se muestran los coeficientes\n",
    "print(\"w0: \" , modelo.intercept_)\n",
    "print(\"w1: \" , modelo.coef_)\n"
   ]
  },
  {
   "cell_type": "code",
   "execution_count": null,
   "metadata": {
    "id": "xNi9IwNJbSwK"
   },
   "outputs": [],
   "source": [
    "# predicción y evaluación del modelo\n",
    "print(\"Una casa con 7 cuartos vale \" , modelo.predict([[7]])[0])"
   ]
  },
  {
   "cell_type": "code",
   "execution_count": null,
   "metadata": {
    "id": "YzFrjasxAOIv"
   },
   "outputs": [],
   "source": [
    "# se dibuja una gráfica de dispersión \n",
    "plt.scatter(x, y, marker='o')\n",
    "plt.xlabel('num cuartos')\n",
    "plt.ylabel('precio')\n",
    "# se dibuja el punto de la predicción\n",
    "plt.scatter([7],  modelo.predict([[7]])[0], marker='*')\n"
   ]
  },
  {
   "cell_type": "code",
   "execution_count": null,
   "metadata": {
    "id": "n-fj7SAAdkv9"
   },
   "outputs": [],
   "source": [
    "from sklearn.externals import joblib\n",
    "# guardar el archivo a disco\n",
    "nomarchivo = 'modelo2.sav'\n",
    "joblib.dump(modelo, nomarchivo)"
   ]
  }
 ],
 "metadata": {
  "colab": {
   "collapsed_sections": [],
   "name": "Ejemplo Reg Simple 1 .ipynb",
   "provenance": []
  },
  "kernelspec": {
   "display_name": "Python 3",
   "language": "python",
   "name": "python3"
  },
  "language_info": {
   "codemirror_mode": {
    "name": "ipython",
    "version": 3
   },
   "file_extension": ".py",
   "mimetype": "text/x-python",
   "name": "python",
   "nbconvert_exporter": "python",
   "pygments_lexer": "ipython3",
   "version": "3.7.3"
  },
  "toc": {
   "base_numbering": 1,
   "nav_menu": {},
   "number_sections": true,
   "sideBar": true,
   "skip_h1_title": false,
   "title_cell": "Table of Contents",
   "title_sidebar": "Contents",
   "toc_cell": false,
   "toc_position": {},
   "toc_section_display": true,
   "toc_window_display": false
  },
  "varInspector": {
   "cols": {
    "lenName": 16,
    "lenType": 16,
    "lenVar": 40
   },
   "kernels_config": {
    "python": {
     "delete_cmd_postfix": "",
     "delete_cmd_prefix": "del ",
     "library": "var_list.py",
     "varRefreshCmd": "print(var_dic_list())"
    },
    "r": {
     "delete_cmd_postfix": ") ",
     "delete_cmd_prefix": "rm(",
     "library": "var_list.r",
     "varRefreshCmd": "cat(var_dic_list()) "
    }
   },
   "types_to_exclude": [
    "module",
    "function",
    "builtin_function_or_method",
    "instance",
    "_Feature"
   ],
   "window_display": false
  }
 },
 "nbformat": 4,
 "nbformat_minor": 1
}
