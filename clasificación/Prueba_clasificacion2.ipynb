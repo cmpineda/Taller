{
 "cells": [
  {
   "cell_type": "markdown",
   "metadata": {},
   "source": [
    "## Ejemplo de Clasificación"
   ]
  },
  {
   "cell_type": "code",
   "execution_count": 38,
   "metadata": {},
   "outputs": [],
   "source": [
    "import pandas as pd\n",
    "import numpy as np"
   ]
  },
  {
   "cell_type": "code",
   "execution_count": 39,
   "metadata": {},
   "outputs": [],
   "source": [
    "df = pd.read_csv(\"datos.csv\", header=0, index_col=0)"
   ]
  },
  {
   "cell_type": "code",
   "execution_count": 40,
   "metadata": {},
   "outputs": [
    {
     "data": {
      "text/html": [
       "<div>\n",
       "<style scoped>\n",
       "    .dataframe tbody tr th:only-of-type {\n",
       "        vertical-align: middle;\n",
       "    }\n",
       "\n",
       "    .dataframe tbody tr th {\n",
       "        vertical-align: top;\n",
       "    }\n",
       "\n",
       "    .dataframe thead th {\n",
       "        text-align: right;\n",
       "    }\n",
       "</style>\n",
       "<table border=\"1\" class=\"dataframe\">\n",
       "  <thead>\n",
       "    <tr style=\"text-align: right;\">\n",
       "      <th></th>\n",
       "      <th>edad</th>\n",
       "      <th>genero</th>\n",
       "      <th>estado_civil</th>\n",
       "      <th>estrato</th>\n",
       "      <th>icfes</th>\n",
       "      <th>aprueba</th>\n",
       "    </tr>\n",
       "  </thead>\n",
       "  <tbody>\n",
       "    <tr>\n",
       "      <td>93</td>\n",
       "      <td>20</td>\n",
       "      <td>1</td>\n",
       "      <td>0.0</td>\n",
       "      <td>1</td>\n",
       "      <td>262</td>\n",
       "      <td>1</td>\n",
       "    </tr>\n",
       "    <tr>\n",
       "      <td>135</td>\n",
       "      <td>19</td>\n",
       "      <td>1</td>\n",
       "      <td>0.0</td>\n",
       "      <td>1</td>\n",
       "      <td>222</td>\n",
       "      <td>0</td>\n",
       "    </tr>\n",
       "    <tr>\n",
       "      <td>64</td>\n",
       "      <td>25</td>\n",
       "      <td>0</td>\n",
       "      <td>0.0</td>\n",
       "      <td>0</td>\n",
       "      <td>252</td>\n",
       "      <td>1</td>\n",
       "    </tr>\n",
       "    <tr>\n",
       "      <td>156</td>\n",
       "      <td>20</td>\n",
       "      <td>1</td>\n",
       "      <td>0.0</td>\n",
       "      <td>1</td>\n",
       "      <td>294</td>\n",
       "      <td>1</td>\n",
       "    </tr>\n",
       "    <tr>\n",
       "      <td>10</td>\n",
       "      <td>25</td>\n",
       "      <td>1</td>\n",
       "      <td>0.0</td>\n",
       "      <td>1</td>\n",
       "      <td>358</td>\n",
       "      <td>1</td>\n",
       "    </tr>\n",
       "  </tbody>\n",
       "</table>\n",
       "</div>"
      ],
      "text/plain": [
       "     edad  genero  estado_civil  estrato  icfes  aprueba\n",
       "93     20       1           0.0        1    262        1\n",
       "135    19       1           0.0        1    222        0\n",
       "64     25       0           0.0        0    252        1\n",
       "156    20       1           0.0        1    294        1\n",
       "10     25       1           0.0        1    358        1"
      ]
     },
     "execution_count": 40,
     "metadata": {},
     "output_type": "execute_result"
    }
   ],
   "source": [
    "df.sample(5)"
   ]
  },
  {
   "cell_type": "code",
   "execution_count": 41,
   "metadata": {},
   "outputs": [],
   "source": [
    "# las primeras columnas las guardamos en X\n",
    "X = df.iloc[:,:-1].values"
   ]
  },
  {
   "cell_type": "code",
   "execution_count": 42,
   "metadata": {},
   "outputs": [],
   "source": [
    "# la última columna (variable destino) la guardamos en y\n",
    "y = df.iloc[:,5].values"
   ]
  },
  {
   "cell_type": "code",
   "execution_count": 43,
   "metadata": {},
   "outputs": [],
   "source": [
    "# separamos en conjunto de prueba y entrenamiento con la función train_test_split()\n",
    "from sklearn.model_selection import train_test_split\n",
    "X_ent, X_pru, y_ent, y_pru = train_test_split(X, y, test_size=0.2, random_state=1)"
   ]
  },
  {
   "cell_type": "code",
   "execution_count": 44,
   "metadata": {},
   "outputs": [],
   "source": [
    "import tensorflow as tf\n",
    "from tensorflow import keras\n",
    "from tensorflow.keras.models import Sequential\n",
    "from tensorflow.keras.layers import Dense"
   ]
  },
  {
   "cell_type": "code",
   "execution_count": 45,
   "metadata": {},
   "outputs": [],
   "source": [
    "#Definimos la red neuronal\n",
    "model = Sequential()\n",
    "model.add(Dense(500, activation='relu'))\n",
    "#keras.layers.Dropout(0.5),\n",
    "model.add(Dense(100, activation='relu'))\n",
    "#keras.layers.Dropout(0.5),\n",
    "model.add(Dense(50, activation='relu'))\n",
    "#keras.layers.Dropout(0.5),\n",
    "model.add(Dense(1, activation='sigmoid'))\n",
    "\n",
    "# Compile the model\n",
    "model.compile(optimizer='adam', \n",
    "              loss='binary_crossentropy', \n",
    "              metrics=['accuracy'])"
   ]
  },
  {
   "cell_type": "code",
   "execution_count": 46,
   "metadata": {},
   "outputs": [],
   "source": [
    "early_stopping = tf.keras.callbacks.EarlyStopping(\n",
    "    monitor=\"val_loss\", patience=5, restore_best_weights=True\n",
    ")"
   ]
  },
  {
   "cell_type": "code",
   "execution_count": 47,
   "metadata": {},
   "outputs": [
    {
     "name": "stdout",
     "output_type": "stream",
     "text": [
      "Epoch 1/100\n",
      "1/5 [=====>........................] - ETA: 0s - loss: 3.3683 - accuracy: 0.5312WARNING:tensorflow:Early stopping conditioned on metric `val_loss` which is not available. Available metrics are: loss,accuracy\n",
      "5/5 [==============================] - 0s 5ms/step - loss: 2.6889 - accuracy: 0.5147\n",
      "Epoch 2/100\n",
      "1/5 [=====>........................] - ETA: 0s - loss: 1.5890 - accuracy: 0.6562WARNING:tensorflow:Early stopping conditioned on metric `val_loss` which is not available. Available metrics are: loss,accuracy\n",
      "5/5 [==============================] - 0s 3ms/step - loss: 1.6731 - accuracy: 0.5588\n",
      "Epoch 3/100\n",
      "1/5 [=====>........................] - ETA: 0s - loss: 1.1254 - accuracy: 0.5938WARNING:tensorflow:Early stopping conditioned on metric `val_loss` which is not available. Available metrics are: loss,accuracy\n",
      "5/5 [==============================] - 0s 3ms/step - loss: 0.8348 - accuracy: 0.5735\n",
      "Epoch 4/100\n",
      "1/5 [=====>........................] - ETA: 0s - loss: 0.5534 - accuracy: 0.6875WARNING:tensorflow:Early stopping conditioned on metric `val_loss` which is not available. Available metrics are: loss,accuracy\n",
      "5/5 [==============================] - 0s 3ms/step - loss: 0.6148 - accuracy: 0.6250\n",
      "Epoch 5/100\n",
      "1/5 [=====>........................] - ETA: 0s - loss: 0.5372 - accuracy: 0.7188WARNING:tensorflow:Early stopping conditioned on metric `val_loss` which is not available. Available metrics are: loss,accuracy\n",
      "5/5 [==============================] - 0s 4ms/step - loss: 0.5484 - accuracy: 0.7132\n",
      "Epoch 6/100\n",
      "1/5 [=====>........................] - ETA: 0s - loss: 0.4954 - accuracy: 0.6875WARNING:tensorflow:Early stopping conditioned on metric `val_loss` which is not available. Available metrics are: loss,accuracy\n",
      "5/5 [==============================] - 0s 3ms/step - loss: 0.4986 - accuracy: 0.7426\n",
      "Epoch 7/100\n",
      "1/5 [=====>........................] - ETA: 0s - loss: 0.5482 - accuracy: 0.7188WARNING:tensorflow:Early stopping conditioned on metric `val_loss` which is not available. Available metrics are: loss,accuracy\n",
      "5/5 [==============================] - 0s 4ms/step - loss: 0.5351 - accuracy: 0.6838\n",
      "Epoch 8/100\n",
      "1/5 [=====>........................] - ETA: 0s - loss: 0.5064 - accuracy: 0.7188WARNING:tensorflow:Early stopping conditioned on metric `val_loss` which is not available. Available metrics are: loss,accuracy\n",
      "5/5 [==============================] - 0s 3ms/step - loss: 0.6161 - accuracy: 0.6691\n",
      "Epoch 9/100\n",
      "1/5 [=====>........................] - ETA: 0s - loss: 0.4885 - accuracy: 0.7188WARNING:tensorflow:Early stopping conditioned on metric `val_loss` which is not available. Available metrics are: loss,accuracy\n",
      "5/5 [==============================] - 0s 4ms/step - loss: 0.5095 - accuracy: 0.7132\n",
      "Epoch 10/100\n",
      "1/5 [=====>........................] - ETA: 0s - loss: 0.6148 - accuracy: 0.5312WARNING:tensorflow:Early stopping conditioned on metric `val_loss` which is not available. Available metrics are: loss,accuracy\n",
      "5/5 [==============================] - 0s 2ms/step - loss: 0.5574 - accuracy: 0.6029\n",
      "Epoch 11/100\n",
      "1/5 [=====>........................] - ETA: 0s - loss: 0.4907 - accuracy: 0.6875WARNING:tensorflow:Early stopping conditioned on metric `val_loss` which is not available. Available metrics are: loss,accuracy\n",
      "5/5 [==============================] - 0s 4ms/step - loss: 0.5042 - accuracy: 0.7059\n",
      "Epoch 12/100\n",
      "1/5 [=====>........................] - ETA: 0s - loss: 0.4635 - accuracy: 0.7188WARNING:tensorflow:Early stopping conditioned on metric `val_loss` which is not available. Available metrics are: loss,accuracy\n",
      "5/5 [==============================] - 0s 4ms/step - loss: 0.4215 - accuracy: 0.7574\n",
      "Epoch 13/100\n",
      "1/5 [=====>........................] - ETA: 0s - loss: 0.6070 - accuracy: 0.5625WARNING:tensorflow:Early stopping conditioned on metric `val_loss` which is not available. Available metrics are: loss,accuracy\n",
      "5/5 [==============================] - 0s 3ms/step - loss: 0.4507 - accuracy: 0.7353\n",
      "Epoch 14/100\n",
      "1/5 [=====>........................] - ETA: 0s - loss: 0.5209 - accuracy: 0.7812WARNING:tensorflow:Early stopping conditioned on metric `val_loss` which is not available. Available metrics are: loss,accuracy\n",
      "5/5 [==============================] - 0s 3ms/step - loss: 0.4494 - accuracy: 0.7794\n",
      "Epoch 15/100\n",
      "1/5 [=====>........................] - ETA: 0s - loss: 0.4251 - accuracy: 0.7500WARNING:tensorflow:Early stopping conditioned on metric `val_loss` which is not available. Available metrics are: loss,accuracy\n",
      "5/5 [==============================] - 0s 3ms/step - loss: 0.4287 - accuracy: 0.8015\n",
      "Epoch 16/100\n",
      "1/5 [=====>........................] - ETA: 0s - loss: 0.4121 - accuracy: 0.8438WARNING:tensorflow:Early stopping conditioned on metric `val_loss` which is not available. Available metrics are: loss,accuracy\n",
      "5/5 [==============================] - 0s 4ms/step - loss: 0.4626 - accuracy: 0.7279\n",
      "Epoch 17/100\n",
      "1/5 [=====>........................] - ETA: 0s - loss: 0.7148 - accuracy: 0.6250WARNING:tensorflow:Early stopping conditioned on metric `val_loss` which is not available. Available metrics are: loss,accuracy\n",
      "5/5 [==============================] - 0s 2ms/step - loss: 0.5458 - accuracy: 0.6985\n",
      "Epoch 18/100\n",
      "1/5 [=====>........................] - ETA: 0s - loss: 0.6958 - accuracy: 0.6250WARNING:tensorflow:Early stopping conditioned on metric `val_loss` which is not available. Available metrics are: loss,accuracy\n",
      "5/5 [==============================] - 0s 4ms/step - loss: 0.4874 - accuracy: 0.7353\n",
      "Epoch 19/100\n",
      "1/5 [=====>........................] - ETA: 0s - loss: 0.2935 - accuracy: 0.9062WARNING:tensorflow:Early stopping conditioned on metric `val_loss` which is not available. Available metrics are: loss,accuracy\n",
      "5/5 [==============================] - 0s 4ms/step - loss: 0.4466 - accuracy: 0.7794\n",
      "Epoch 20/100\n",
      "1/5 [=====>........................] - ETA: 0s - loss: 0.4146 - accuracy: 0.8125WARNING:tensorflow:Early stopping conditioned on metric `val_loss` which is not available. Available metrics are: loss,accuracy\n",
      "5/5 [==============================] - 0s 3ms/step - loss: 0.4279 - accuracy: 0.7721\n",
      "Epoch 21/100\n",
      "1/5 [=====>........................] - ETA: 0s - loss: 0.4799 - accuracy: 0.7500WARNING:tensorflow:Early stopping conditioned on metric `val_loss` which is not available. Available metrics are: loss,accuracy\n",
      "5/5 [==============================] - 0s 4ms/step - loss: 0.4561 - accuracy: 0.7574\n",
      "Epoch 22/100\n",
      "1/5 [=====>........................] - ETA: 0s - loss: 0.4038 - accuracy: 0.7188WARNING:tensorflow:Early stopping conditioned on metric `val_loss` which is not available. Available metrics are: loss,accuracy\n",
      "5/5 [==============================] - 0s 3ms/step - loss: 0.3978 - accuracy: 0.7721\n",
      "Epoch 23/100\n",
      "1/5 [=====>........................] - ETA: 0s - loss: 0.4724 - accuracy: 0.7188WARNING:tensorflow:Early stopping conditioned on metric `val_loss` which is not available. Available metrics are: loss,accuracy\n",
      "5/5 [==============================] - 0s 3ms/step - loss: 0.4035 - accuracy: 0.7868\n",
      "Epoch 24/100\n",
      "1/5 [=====>........................] - ETA: 0s - loss: 0.4022 - accuracy: 0.7500WARNING:tensorflow:Early stopping conditioned on metric `val_loss` which is not available. Available metrics are: loss,accuracy\n",
      "5/5 [==============================] - 0s 3ms/step - loss: 0.3974 - accuracy: 0.7794\n",
      "Epoch 25/100\n",
      "1/5 [=====>........................] - ETA: 0s - loss: 0.4885 - accuracy: 0.6875WARNING:tensorflow:Early stopping conditioned on metric `val_loss` which is not available. Available metrics are: loss,accuracy\n",
      "5/5 [==============================] - 0s 4ms/step - loss: 0.4545 - accuracy: 0.7353\n",
      "Epoch 26/100\n",
      "1/5 [=====>........................] - ETA: 0s - loss: 0.3805 - accuracy: 0.8750WARNING:tensorflow:Early stopping conditioned on metric `val_loss` which is not available. Available metrics are: loss,accuracy\n",
      "5/5 [==============================] - 0s 2ms/step - loss: 0.4136 - accuracy: 0.8088\n",
      "Epoch 27/100\n",
      "1/5 [=====>........................] - ETA: 0s - loss: 0.6276 - accuracy: 0.6562WARNING:tensorflow:Early stopping conditioned on metric `val_loss` which is not available. Available metrics are: loss,accuracy\n",
      "5/5 [==============================] - 0s 4ms/step - loss: 0.6791 - accuracy: 0.6471\n"
     ]
    },
    {
     "name": "stdout",
     "output_type": "stream",
     "text": [
      "Epoch 28/100\n",
      "1/5 [=====>........................] - ETA: 0s - loss: 0.5131 - accuracy: 0.7500WARNING:tensorflow:Early stopping conditioned on metric `val_loss` which is not available. Available metrics are: loss,accuracy\n",
      "5/5 [==============================] - 0s 3ms/step - loss: 0.5229 - accuracy: 0.7206\n",
      "Epoch 29/100\n",
      "1/5 [=====>........................] - ETA: 0s - loss: 0.7216 - accuracy: 0.7500WARNING:tensorflow:Early stopping conditioned on metric `val_loss` which is not available. Available metrics are: loss,accuracy\n",
      "5/5 [==============================] - 0s 2ms/step - loss: 0.4849 - accuracy: 0.7721\n",
      "Epoch 30/100\n",
      "1/5 [=====>........................] - ETA: 0s - loss: 0.4451 - accuracy: 0.7500WARNING:tensorflow:Early stopping conditioned on metric `val_loss` which is not available. Available metrics are: loss,accuracy\n",
      "5/5 [==============================] - 0s 3ms/step - loss: 0.4523 - accuracy: 0.7941\n",
      "Epoch 31/100\n",
      "1/5 [=====>........................] - ETA: 0s - loss: 0.4065 - accuracy: 0.7500WARNING:tensorflow:Early stopping conditioned on metric `val_loss` which is not available. Available metrics are: loss,accuracy\n",
      "5/5 [==============================] - 0s 3ms/step - loss: 0.5312 - accuracy: 0.7206\n",
      "Epoch 32/100\n",
      "1/5 [=====>........................] - ETA: 0s - loss: 0.7398 - accuracy: 0.5938WARNING:tensorflow:Early stopping conditioned on metric `val_loss` which is not available. Available metrics are: loss,accuracy\n",
      "5/5 [==============================] - 0s 3ms/step - loss: 0.5358 - accuracy: 0.7132\n",
      "Epoch 33/100\n",
      "1/5 [=====>........................] - ETA: 0s - loss: 0.5198 - accuracy: 0.7812WARNING:tensorflow:Early stopping conditioned on metric `val_loss` which is not available. Available metrics are: loss,accuracy\n",
      "5/5 [==============================] - 0s 2ms/step - loss: 0.6321 - accuracy: 0.7500\n",
      "Epoch 34/100\n",
      "1/5 [=====>........................] - ETA: 0s - loss: 1.0417 - accuracy: 0.6250WARNING:tensorflow:Early stopping conditioned on metric `val_loss` which is not available. Available metrics are: loss,accuracy\n",
      "5/5 [==============================] - 0s 2ms/step - loss: 0.8244 - accuracy: 0.6691\n",
      "Epoch 35/100\n",
      "1/5 [=====>........................] - ETA: 0s - loss: 0.4396 - accuracy: 0.7500WARNING:tensorflow:Early stopping conditioned on metric `val_loss` which is not available. Available metrics are: loss,accuracy\n",
      "5/5 [==============================] - 0s 3ms/step - loss: 0.5336 - accuracy: 0.7353\n",
      "Epoch 36/100\n",
      "1/5 [=====>........................] - ETA: 0s - loss: 0.3649 - accuracy: 0.7812WARNING:tensorflow:Early stopping conditioned on metric `val_loss` which is not available. Available metrics are: loss,accuracy\n",
      "5/5 [==============================] - 0s 2ms/step - loss: 0.5172 - accuracy: 0.7353\n",
      "Epoch 37/100\n",
      "1/5 [=====>........................] - ETA: 0s - loss: 0.3990 - accuracy: 0.7500WARNING:tensorflow:Early stopping conditioned on metric `val_loss` which is not available. Available metrics are: loss,accuracy\n",
      "5/5 [==============================] - 0s 3ms/step - loss: 0.4048 - accuracy: 0.7574\n",
      "Epoch 38/100\n",
      "1/5 [=====>........................] - ETA: 0s - loss: 0.3272 - accuracy: 0.8125WARNING:tensorflow:Early stopping conditioned on metric `val_loss` which is not available. Available metrics are: loss,accuracy\n",
      "5/5 [==============================] - 0s 3ms/step - loss: 0.4042 - accuracy: 0.8162\n",
      "Epoch 39/100\n",
      "1/5 [=====>........................] - ETA: 0s - loss: 0.3812 - accuracy: 0.7500WARNING:tensorflow:Early stopping conditioned on metric `val_loss` which is not available. Available metrics are: loss,accuracy\n",
      "5/5 [==============================] - 0s 3ms/step - loss: 0.3961 - accuracy: 0.7868\n",
      "Epoch 40/100\n",
      "1/5 [=====>........................] - ETA: 0s - loss: 0.3925 - accuracy: 0.8125WARNING:tensorflow:Early stopping conditioned on metric `val_loss` which is not available. Available metrics are: loss,accuracy\n",
      "5/5 [==============================] - 0s 2ms/step - loss: 0.3620 - accuracy: 0.8088\n",
      "Epoch 41/100\n",
      "1/5 [=====>........................] - ETA: 0s - loss: 0.4063 - accuracy: 0.7812WARNING:tensorflow:Early stopping conditioned on metric `val_loss` which is not available. Available metrics are: loss,accuracy\n",
      "5/5 [==============================] - 0s 3ms/step - loss: 0.4549 - accuracy: 0.7574\n",
      "Epoch 42/100\n",
      "1/5 [=====>........................] - ETA: 0s - loss: 0.5695 - accuracy: 0.7188WARNING:tensorflow:Early stopping conditioned on metric `val_loss` which is not available. Available metrics are: loss,accuracy\n",
      "5/5 [==============================] - 0s 3ms/step - loss: 0.5277 - accuracy: 0.7279\n",
      "Epoch 43/100\n",
      "1/5 [=====>........................] - ETA: 0s - loss: 0.5696 - accuracy: 0.6875WARNING:tensorflow:Early stopping conditioned on metric `val_loss` which is not available. Available metrics are: loss,accuracy\n",
      "5/5 [==============================] - 0s 3ms/step - loss: 0.5341 - accuracy: 0.7059\n",
      "Epoch 44/100\n",
      "1/5 [=====>........................] - ETA: 0s - loss: 0.5401 - accuracy: 0.6875WARNING:tensorflow:Early stopping conditioned on metric `val_loss` which is not available. Available metrics are: loss,accuracy\n",
      "5/5 [==============================] - 0s 3ms/step - loss: 0.5139 - accuracy: 0.7353\n",
      "Epoch 45/100\n",
      "1/5 [=====>........................] - ETA: 0s - loss: 0.3226 - accuracy: 0.8125WARNING:tensorflow:Early stopping conditioned on metric `val_loss` which is not available. Available metrics are: loss,accuracy\n",
      "5/5 [==============================] - 0s 3ms/step - loss: 0.4041 - accuracy: 0.7721\n",
      "Epoch 46/100\n",
      "1/5 [=====>........................] - ETA: 0s - loss: 0.4840 - accuracy: 0.7500WARNING:tensorflow:Early stopping conditioned on metric `val_loss` which is not available. Available metrics are: loss,accuracy\n",
      "5/5 [==============================] - 0s 3ms/step - loss: 0.4939 - accuracy: 0.7500\n",
      "Epoch 47/100\n",
      "1/5 [=====>........................] - ETA: 0s - loss: 0.6194 - accuracy: 0.6562WARNING:tensorflow:Early stopping conditioned on metric `val_loss` which is not available. Available metrics are: loss,accuracy\n",
      "5/5 [==============================] - 0s 2ms/step - loss: 0.5004 - accuracy: 0.7132\n",
      "Epoch 48/100\n",
      "1/5 [=====>........................] - ETA: 0s - loss: 0.3783 - accuracy: 0.8125WARNING:tensorflow:Early stopping conditioned on metric `val_loss` which is not available. Available metrics are: loss,accuracy\n",
      "5/5 [==============================] - 0s 2ms/step - loss: 0.3624 - accuracy: 0.8088\n",
      "Epoch 49/100\n",
      "1/5 [=====>........................] - ETA: 0s - loss: 0.5702 - accuracy: 0.6562WARNING:tensorflow:Early stopping conditioned on metric `val_loss` which is not available. Available metrics are: loss,accuracy\n",
      "5/5 [==============================] - 0s 4ms/step - loss: 0.4293 - accuracy: 0.7574\n",
      "Epoch 50/100\n",
      "1/5 [=====>........................] - ETA: 0s - loss: 0.2679 - accuracy: 0.9375WARNING:tensorflow:Early stopping conditioned on metric `val_loss` which is not available. Available metrics are: loss,accuracy\n",
      "5/5 [==============================] - 0s 2ms/step - loss: 0.3660 - accuracy: 0.8088\n",
      "Epoch 51/100\n",
      "1/5 [=====>........................] - ETA: 0s - loss: 0.4490 - accuracy: 0.7500WARNING:tensorflow:Early stopping conditioned on metric `val_loss` which is not available. Available metrics are: loss,accuracy\n",
      "5/5 [==============================] - 0s 3ms/step - loss: 0.3738 - accuracy: 0.8309\n",
      "Epoch 52/100\n",
      "1/5 [=====>........................] - ETA: 0s - loss: 0.3263 - accuracy: 0.8125WARNING:tensorflow:Early stopping conditioned on metric `val_loss` which is not available. Available metrics are: loss,accuracy\n",
      "5/5 [==============================] - 0s 3ms/step - loss: 0.3736 - accuracy: 0.7794\n",
      "Epoch 53/100\n",
      "1/5 [=====>........................] - ETA: 0s - loss: 0.3326 - accuracy: 0.8125WARNING:tensorflow:Early stopping conditioned on metric `val_loss` which is not available. Available metrics are: loss,accuracy\n",
      "5/5 [==============================] - 0s 3ms/step - loss: 0.3756 - accuracy: 0.8088\n",
      "Epoch 54/100\n",
      "1/5 [=====>........................] - ETA: 0s - loss: 0.3795 - accuracy: 0.7500WARNING:tensorflow:Early stopping conditioned on metric `val_loss` which is not available. Available metrics are: loss,accuracy\n",
      "5/5 [==============================] - 0s 2ms/step - loss: 0.3903 - accuracy: 0.7721\n"
     ]
    },
    {
     "name": "stdout",
     "output_type": "stream",
     "text": [
      "Epoch 55/100\n",
      "1/5 [=====>........................] - ETA: 0s - loss: 0.4695 - accuracy: 0.7188WARNING:tensorflow:Early stopping conditioned on metric `val_loss` which is not available. Available metrics are: loss,accuracy\n",
      "5/5 [==============================] - 0s 2ms/step - loss: 0.3795 - accuracy: 0.7426\n",
      "Epoch 56/100\n",
      "1/5 [=====>........................] - ETA: 0s - loss: 0.3808 - accuracy: 0.7812WARNING:tensorflow:Early stopping conditioned on metric `val_loss` which is not available. Available metrics are: loss,accuracy\n",
      "5/5 [==============================] - 0s 2ms/step - loss: 0.3617 - accuracy: 0.8309\n",
      "Epoch 57/100\n",
      "1/5 [=====>........................] - ETA: 0s - loss: 0.5648 - accuracy: 0.7812WARNING:tensorflow:Early stopping conditioned on metric `val_loss` which is not available. Available metrics are: loss,accuracy\n",
      "5/5 [==============================] - 0s 3ms/step - loss: 0.4870 - accuracy: 0.7500\n",
      "Epoch 58/100\n",
      "1/5 [=====>........................] - ETA: 0s - loss: 0.3396 - accuracy: 0.7812WARNING:tensorflow:Early stopping conditioned on metric `val_loss` which is not available. Available metrics are: loss,accuracy\n",
      "5/5 [==============================] - 0s 3ms/step - loss: 0.4273 - accuracy: 0.7868\n",
      "Epoch 59/100\n",
      "1/5 [=====>........................] - ETA: 0s - loss: 0.4289 - accuracy: 0.7500WARNING:tensorflow:Early stopping conditioned on metric `val_loss` which is not available. Available metrics are: loss,accuracy\n",
      "5/5 [==============================] - 0s 3ms/step - loss: 0.5804 - accuracy: 0.6838\n",
      "Epoch 60/100\n",
      "1/5 [=====>........................] - ETA: 0s - loss: 0.5185 - accuracy: 0.7188WARNING:tensorflow:Early stopping conditioned on metric `val_loss` which is not available. Available metrics are: loss,accuracy\n",
      "5/5 [==============================] - 0s 2ms/step - loss: 0.5212 - accuracy: 0.7353\n",
      "Epoch 61/100\n",
      "1/5 [=====>........................] - ETA: 0s - loss: 0.5408 - accuracy: 0.6562WARNING:tensorflow:Early stopping conditioned on metric `val_loss` which is not available. Available metrics are: loss,accuracy\n",
      "5/5 [==============================] - 0s 2ms/step - loss: 0.4177 - accuracy: 0.7721\n",
      "Epoch 62/100\n",
      "1/5 [=====>........................] - ETA: 0s - loss: 0.3253 - accuracy: 0.8750WARNING:tensorflow:Early stopping conditioned on metric `val_loss` which is not available. Available metrics are: loss,accuracy\n",
      "5/5 [==============================] - 0s 3ms/step - loss: 0.4346 - accuracy: 0.7868\n",
      "Epoch 63/100\n",
      "1/5 [=====>........................] - ETA: 0s - loss: 0.9041 - accuracy: 0.6562WARNING:tensorflow:Early stopping conditioned on metric `val_loss` which is not available. Available metrics are: loss,accuracy\n",
      "5/5 [==============================] - 0s 3ms/step - loss: 0.6457 - accuracy: 0.6838\n",
      "Epoch 64/100\n",
      "1/5 [=====>........................] - ETA: 0s - loss: 0.3588 - accuracy: 0.8125WARNING:tensorflow:Early stopping conditioned on metric `val_loss` which is not available. Available metrics are: loss,accuracy\n",
      "5/5 [==============================] - 0s 3ms/step - loss: 0.4557 - accuracy: 0.7647\n",
      "Epoch 65/100\n",
      "1/5 [=====>........................] - ETA: 0s - loss: 0.4649 - accuracy: 0.7188WARNING:tensorflow:Early stopping conditioned on metric `val_loss` which is not available. Available metrics are: loss,accuracy\n",
      "5/5 [==============================] - 0s 2ms/step - loss: 0.6313 - accuracy: 0.6985\n",
      "Epoch 66/100\n",
      "1/5 [=====>........................] - ETA: 0s - loss: 0.6446 - accuracy: 0.6875WARNING:tensorflow:Early stopping conditioned on metric `val_loss` which is not available. Available metrics are: loss,accuracy\n",
      "5/5 [==============================] - 0s 2ms/step - loss: 0.6180 - accuracy: 0.6985\n",
      "Epoch 67/100\n",
      "1/5 [=====>........................] - ETA: 0s - loss: 0.2766 - accuracy: 0.8750WARNING:tensorflow:Early stopping conditioned on metric `val_loss` which is not available. Available metrics are: loss,accuracy\n",
      "5/5 [==============================] - 0s 2ms/step - loss: 0.3720 - accuracy: 0.8309\n",
      "Epoch 68/100\n",
      "1/5 [=====>........................] - ETA: 0s - loss: 0.3887 - accuracy: 0.7812WARNING:tensorflow:Early stopping conditioned on metric `val_loss` which is not available. Available metrics are: loss,accuracy\n",
      "5/5 [==============================] - 0s 2ms/step - loss: 0.3648 - accuracy: 0.8015\n",
      "Epoch 69/100\n",
      "1/5 [=====>........................] - ETA: 0s - loss: 0.3403 - accuracy: 0.8125WARNING:tensorflow:Early stopping conditioned on metric `val_loss` which is not available. Available metrics are: loss,accuracy\n",
      "5/5 [==============================] - 0s 3ms/step - loss: 0.3757 - accuracy: 0.8162\n",
      "Epoch 70/100\n",
      "1/5 [=====>........................] - ETA: 0s - loss: 0.4158 - accuracy: 0.7188WARNING:tensorflow:Early stopping conditioned on metric `val_loss` which is not available. Available metrics are: loss,accuracy\n",
      "5/5 [==============================] - 0s 3ms/step - loss: 0.3642 - accuracy: 0.7721\n",
      "Epoch 71/100\n",
      "1/5 [=====>........................] - ETA: 0s - loss: 0.5568 - accuracy: 0.6562WARNING:tensorflow:Early stopping conditioned on metric `val_loss` which is not available. Available metrics are: loss,accuracy\n",
      "5/5 [==============================] - 0s 3ms/step - loss: 0.3685 - accuracy: 0.7941\n",
      "Epoch 72/100\n",
      "1/5 [=====>........................] - ETA: 0s - loss: 0.4716 - accuracy: 0.7188WARNING:tensorflow:Early stopping conditioned on metric `val_loss` which is not available. Available metrics are: loss,accuracy\n",
      "5/5 [==============================] - 0s 3ms/step - loss: 0.3793 - accuracy: 0.7941\n",
      "Epoch 73/100\n",
      "1/5 [=====>........................] - ETA: 0s - loss: 0.4536 - accuracy: 0.7812WARNING:tensorflow:Early stopping conditioned on metric `val_loss` which is not available. Available metrics are: loss,accuracy\n",
      "5/5 [==============================] - 0s 3ms/step - loss: 0.4026 - accuracy: 0.7941\n",
      "Epoch 74/100\n",
      "1/5 [=====>........................] - ETA: 0s - loss: 0.3360 - accuracy: 0.8125WARNING:tensorflow:Early stopping conditioned on metric `val_loss` which is not available. Available metrics are: loss,accuracy\n",
      "5/5 [==============================] - 0s 3ms/step - loss: 0.3665 - accuracy: 0.7941\n",
      "Epoch 75/100\n",
      "1/5 [=====>........................] - ETA: 0s - loss: 0.2764 - accuracy: 0.9062WARNING:tensorflow:Early stopping conditioned on metric `val_loss` which is not available. Available metrics are: loss,accuracy\n",
      "5/5 [==============================] - 0s 3ms/step - loss: 0.3845 - accuracy: 0.7721\n",
      "Epoch 76/100\n",
      "1/5 [=====>........................] - ETA: 0s - loss: 0.4099 - accuracy: 0.7500WARNING:tensorflow:Early stopping conditioned on metric `val_loss` which is not available. Available metrics are: loss,accuracy\n",
      "5/5 [==============================] - 0s 2ms/step - loss: 0.3744 - accuracy: 0.8015\n",
      "Epoch 77/100\n",
      "1/5 [=====>........................] - ETA: 0s - loss: 0.3249 - accuracy: 0.8125WARNING:tensorflow:Early stopping conditioned on metric `val_loss` which is not available. Available metrics are: loss,accuracy\n",
      "5/5 [==============================] - 0s 2ms/step - loss: 0.3584 - accuracy: 0.8015\n",
      "Epoch 78/100\n",
      "1/5 [=====>........................] - ETA: 0s - loss: 0.3870 - accuracy: 0.7812WARNING:tensorflow:Early stopping conditioned on metric `val_loss` which is not available. Available metrics are: loss,accuracy\n",
      "5/5 [==============================] - 0s 2ms/step - loss: 0.3671 - accuracy: 0.7941\n",
      "Epoch 79/100\n",
      "1/5 [=====>........................] - ETA: 0s - loss: 0.2808 - accuracy: 0.9062WARNING:tensorflow:Early stopping conditioned on metric `val_loss` which is not available. Available metrics are: loss,accuracy\n",
      "5/5 [==============================] - 0s 2ms/step - loss: 0.3825 - accuracy: 0.8162\n",
      "Epoch 80/100\n",
      "1/5 [=====>........................] - ETA: 0s - loss: 0.8691 - accuracy: 0.5625WARNING:tensorflow:Early stopping conditioned on metric `val_loss` which is not available. Available metrics are: loss,accuracy\n",
      "5/5 [==============================] - 0s 2ms/step - loss: 0.4697 - accuracy: 0.7574\n",
      "Epoch 81/100\n",
      "1/5 [=====>........................] - ETA: 0s - loss: 0.7318 - accuracy: 0.6875WARNING:tensorflow:Early stopping conditioned on metric `val_loss` which is not available. Available metrics are: loss,accuracy\n",
      "5/5 [==============================] - 0s 2ms/step - loss: 0.5238 - accuracy: 0.7353\n"
     ]
    },
    {
     "name": "stdout",
     "output_type": "stream",
     "text": [
      "Epoch 82/100\n",
      "1/5 [=====>........................] - ETA: 0s - loss: 0.3558 - accuracy: 0.8125WARNING:tensorflow:Early stopping conditioned on metric `val_loss` which is not available. Available metrics are: loss,accuracy\n",
      "5/5 [==============================] - 0s 2ms/step - loss: 0.3497 - accuracy: 0.8088\n",
      "Epoch 83/100\n",
      "1/5 [=====>........................] - ETA: 0s - loss: 0.3791 - accuracy: 0.8438WARNING:tensorflow:Early stopping conditioned on metric `val_loss` which is not available. Available metrics are: loss,accuracy\n",
      "5/5 [==============================] - 0s 2ms/step - loss: 0.3626 - accuracy: 0.8088\n",
      "Epoch 84/100\n",
      "1/5 [=====>........................] - ETA: 0s - loss: 0.4238 - accuracy: 0.7500WARNING:tensorflow:Early stopping conditioned on metric `val_loss` which is not available. Available metrics are: loss,accuracy\n",
      "5/5 [==============================] - 0s 2ms/step - loss: 0.3952 - accuracy: 0.7794\n",
      "Epoch 85/100\n",
      "1/5 [=====>........................] - ETA: 0s - loss: 0.4220 - accuracy: 0.8125WARNING:tensorflow:Early stopping conditioned on metric `val_loss` which is not available. Available metrics are: loss,accuracy\n",
      "5/5 [==============================] - 0s 2ms/step - loss: 0.5280 - accuracy: 0.7132\n",
      "Epoch 86/100\n",
      "1/5 [=====>........................] - ETA: 0s - loss: 1.0072 - accuracy: 0.5625WARNING:tensorflow:Early stopping conditioned on metric `val_loss` which is not available. Available metrics are: loss,accuracy\n",
      "5/5 [==============================] - 0s 2ms/step - loss: 0.7021 - accuracy: 0.6985\n",
      "Epoch 87/100\n",
      "1/5 [=====>........................] - ETA: 0s - loss: 0.7000 - accuracy: 0.6562WARNING:tensorflow:Early stopping conditioned on metric `val_loss` which is not available. Available metrics are: loss,accuracy\n",
      "5/5 [==============================] - 0s 2ms/step - loss: 0.5213 - accuracy: 0.7426\n",
      "Epoch 88/100\n",
      "1/5 [=====>........................] - ETA: 0s - loss: 0.6935 - accuracy: 0.6250WARNING:tensorflow:Early stopping conditioned on metric `val_loss` which is not available. Available metrics are: loss,accuracy\n",
      "5/5 [==============================] - 0s 3ms/step - loss: 0.4812 - accuracy: 0.7353\n",
      "Epoch 89/100\n",
      "1/5 [=====>........................] - ETA: 0s - loss: 0.3485 - accuracy: 0.8125WARNING:tensorflow:Early stopping conditioned on metric `val_loss` which is not available. Available metrics are: loss,accuracy\n",
      "5/5 [==============================] - 0s 2ms/step - loss: 0.3663 - accuracy: 0.7794\n",
      "Epoch 90/100\n",
      "1/5 [=====>........................] - ETA: 0s - loss: 0.4103 - accuracy: 0.7500WARNING:tensorflow:Early stopping conditioned on metric `val_loss` which is not available. Available metrics are: loss,accuracy\n",
      "5/5 [==============================] - 0s 2ms/step - loss: 0.3636 - accuracy: 0.8088\n",
      "Epoch 91/100\n",
      "1/5 [=====>........................] - ETA: 0s - loss: 0.3733 - accuracy: 0.7500WARNING:tensorflow:Early stopping conditioned on metric `val_loss` which is not available. Available metrics are: loss,accuracy\n",
      "5/5 [==============================] - 0s 2ms/step - loss: 0.3847 - accuracy: 0.7574\n",
      "Epoch 92/100\n",
      "1/5 [=====>........................] - ETA: 0s - loss: 0.4210 - accuracy: 0.8125WARNING:tensorflow:Early stopping conditioned on metric `val_loss` which is not available. Available metrics are: loss,accuracy\n",
      "5/5 [==============================] - 0s 3ms/step - loss: 0.3628 - accuracy: 0.8162\n",
      "Epoch 93/100\n",
      "1/5 [=====>........................] - ETA: 0s - loss: 0.5348 - accuracy: 0.7188WARNING:tensorflow:Early stopping conditioned on metric `val_loss` which is not available. Available metrics are: loss,accuracy\n",
      "5/5 [==============================] - 0s 2ms/step - loss: 0.4514 - accuracy: 0.7941\n",
      "Epoch 94/100\n",
      "1/5 [=====>........................] - ETA: 0s - loss: 0.4859 - accuracy: 0.7812WARNING:tensorflow:Early stopping conditioned on metric `val_loss` which is not available. Available metrics are: loss,accuracy\n",
      "5/5 [==============================] - 0s 2ms/step - loss: 0.6585 - accuracy: 0.6912\n",
      "Epoch 95/100\n",
      "1/5 [=====>........................] - ETA: 0s - loss: 0.7230 - accuracy: 0.7188WARNING:tensorflow:Early stopping conditioned on metric `val_loss` which is not available. Available metrics are: loss,accuracy\n",
      "5/5 [==============================] - 0s 2ms/step - loss: 0.5099 - accuracy: 0.7059\n",
      "Epoch 96/100\n",
      "1/5 [=====>........................] - ETA: 0s - loss: 0.4902 - accuracy: 0.7812WARNING:tensorflow:Early stopping conditioned on metric `val_loss` which is not available. Available metrics are: loss,accuracy\n",
      "5/5 [==============================] - 0s 2ms/step - loss: 0.4646 - accuracy: 0.7794\n",
      "Epoch 97/100\n",
      "1/5 [=====>........................] - ETA: 0s - loss: 0.3758 - accuracy: 0.7812WARNING:tensorflow:Early stopping conditioned on metric `val_loss` which is not available. Available metrics are: loss,accuracy\n",
      "5/5 [==============================] - 0s 2ms/step - loss: 0.3658 - accuracy: 0.8015\n",
      "Epoch 98/100\n",
      "1/5 [=====>........................] - ETA: 0s - loss: 0.2892 - accuracy: 0.9062WARNING:tensorflow:Early stopping conditioned on metric `val_loss` which is not available. Available metrics are: loss,accuracy\n",
      "5/5 [==============================] - 0s 2ms/step - loss: 0.3881 - accuracy: 0.8162\n",
      "Epoch 99/100\n",
      "1/5 [=====>........................] - ETA: 0s - loss: 0.3756 - accuracy: 0.7812WARNING:tensorflow:Early stopping conditioned on metric `val_loss` which is not available. Available metrics are: loss,accuracy\n",
      "5/5 [==============================] - 0s 2ms/step - loss: 0.4451 - accuracy: 0.7426\n",
      "Epoch 100/100\n",
      "1/5 [=====>........................] - ETA: 0s - loss: 0.2993 - accuracy: 0.8750WARNING:tensorflow:Early stopping conditioned on metric `val_loss` which is not available. Available metrics are: loss,accuracy\n",
      "5/5 [==============================] - 0s 2ms/step - loss: 0.4658 - accuracy: 0.7794\n"
     ]
    }
   ],
   "source": [
    "historico = model.fit(X_ent, y_ent, epochs=100, verbose=1, callbacks=[early_stopping])"
   ]
  },
  {
   "cell_type": "code",
   "execution_count": 59,
   "metadata": {},
   "outputs": [
    {
     "name": "stdout",
     "output_type": "stream",
     "text": [
      "Exactitud sobre datos de entrenamiento: 0.7647058963775635 \n",
      " Error sobre datos de entrenamiento: 0.23529410362243652\n",
      "Exactitud sobre datos de prueba: 0.9142857193946838 \n",
      " Error sobre datos de prueba: 0.08571428060531616\n"
     ]
    }
   ],
   "source": [
    "pred= model.predict(X_ent)\n",
    "puntajes = model.evaluate(X_ent, y_ent, verbose=0)\n",
    "print('Exactitud sobre datos de entrenamiento: {} \\n Error sobre datos de entrenamiento: {}'.format(puntajes[1], 1 - puntajes[1]))   \n",
    " \n",
    "pred= model.predict(X_pru)\n",
    "puntajes2 = model.evaluate(X_pru, y_pru, verbose=0)\n",
    "print('Exactitud sobre datos de prueba: {} \\n Error sobre datos de prueba: {}'.format(puntajes2[1], 1 - puntajes2[1])) "
   ]
  },
  {
   "cell_type": "code",
   "execution_count": 60,
   "metadata": {},
   "outputs": [
    {
     "data": {
      "image/png": "[encoded data removed]",
      "text/plain": [
       "<IPython.core.display.Image object>"
      ]
     },
     "execution_count": 60,
     "metadata": {},
     "output_type": "execute_result"
    }
   ],
   "source": [
    "keras.utils.plot_model(model, show_shapes=True)"
   ]
  },
  {
   "cell_type": "code",
   "execution_count": 61,
   "metadata": {},
   "outputs": [
    {
     "data": {
      "text/plain": [
       "<matplotlib.axes._subplots.AxesSubplot at 0x1f4926e6d68>"
      ]
     },
     "execution_count": 61,
     "metadata": {},
     "output_type": "execute_result"
    },
    {
     "data": {
      "image/png": "[encoded data removed]",
      "text/plain": [
       "<Figure size 504x504 with 1 Axes>"
      ]
     },
     "metadata": {
      "needs_background": "light"
     },
     "output_type": "display_data"
    }
   ],
   "source": [
    "import pandas as pd\n",
    "pd.DataFrame(historico.history).plot(figsize=(7,7))"
   ]
  },
  {
   "cell_type": "code",
   "execution_count": 62,
   "metadata": {},
   "outputs": [],
   "source": [
    "#gurdamos el modelo\n",
    "model.save('modelo.h5')"
   ]
  },
  {
   "cell_type": "code",
   "execution_count": null,
   "metadata": {},
   "outputs": [],
   "source": []
  }
 ],
 "metadata": {
  "kernelspec": {
   "display_name": "Python 3",
   "language": "python",
   "name": "python3"
  },
  "language_info": {
   "codemirror_mode": {
    "name": "ipython",
    "version": 3
   },
   "file_extension": ".py",
   "mimetype": "text/x-python",
   "name": "python",
   "nbconvert_exporter": "python",
   "pygments_lexer": "ipython3",
   "version": "3.7.3"
  },
  "toc": {
   "base_numbering": 1,
   "nav_menu": {},
   "number_sections": true,
   "sideBar": true,
   "skip_h1_title": false,
   "title_cell": "Table of Contents",
   "title_sidebar": "Contents",
   "toc_cell": false,
   "toc_position": {},
   "toc_section_display": true,
   "toc_window_display": false
  },
  "varInspector": {
   "cols": {
    "lenName": 16,
    "lenType": 16,
    "lenVar": 40
   },
   "kernels_config": {
    "python": {
     "delete_cmd_postfix": "",
     "delete_cmd_prefix": "del ",
     "library": "var_list.py",
     "varRefreshCmd": "print(var_dic_list())"
    },
    "r": {
     "delete_cmd_postfix": ") ",
     "delete_cmd_prefix": "rm(",
     "library": "var_list.r",
     "varRefreshCmd": "cat(var_dic_list()) "
    }
   },
   "types_to_exclude": [
    "module",
    "function",
    "builtin_function_or_method",
    "instance",
    "_Feature"
   ],
   "window_display": false
  }
 },
 "nbformat": 4,
 "nbformat_minor": 4
}
