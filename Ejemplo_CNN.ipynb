{
 "cells": [
  {
   "cell_type": "markdown",
   "metadata": {
    "id": "l4JAaQrgZe6Z"
   },
   "source": [
    "**<center><h2>Ejemplo red neuronal convolucional</h2></center>**"
   ]
  },
  {
   "cell_type": "code",
   "execution_count": 1,
   "metadata": {
    "id": "kdYpvc_zWKZf"
   },
   "outputs": [
    {
     "name": "stderr",
     "output_type": "stream",
     "text": [
      "C:\\Users\\Carlos pineda\\Anaconda3\\lib\\site-packages\\tensorboard\\compat\\tensorflow_stub\\dtypes.py:541: FutureWarning: Passing (type, 1) or '1type' as a synonym of type is deprecated; in a future version of numpy, it will be understood as (type, (1,)) / '(1,)type'.\n",
      "  _np_qint8 = np.dtype([(\"qint8\", np.int8, 1)])\n",
      "C:\\Users\\Carlos pineda\\Anaconda3\\lib\\site-packages\\tensorboard\\compat\\tensorflow_stub\\dtypes.py:542: FutureWarning: Passing (type, 1) or '1type' as a synonym of type is deprecated; in a future version of numpy, it will be understood as (type, (1,)) / '(1,)type'.\n",
      "  _np_quint8 = np.dtype([(\"quint8\", np.uint8, 1)])\n",
      "C:\\Users\\Carlos pineda\\Anaconda3\\lib\\site-packages\\tensorboard\\compat\\tensorflow_stub\\dtypes.py:543: FutureWarning: Passing (type, 1) or '1type' as a synonym of type is deprecated; in a future version of numpy, it will be understood as (type, (1,)) / '(1,)type'.\n",
      "  _np_qint16 = np.dtype([(\"qint16\", np.int16, 1)])\n",
      "C:\\Users\\Carlos pineda\\Anaconda3\\lib\\site-packages\\tensorboard\\compat\\tensorflow_stub\\dtypes.py:544: FutureWarning: Passing (type, 1) or '1type' as a synonym of type is deprecated; in a future version of numpy, it will be understood as (type, (1,)) / '(1,)type'.\n",
      "  _np_quint16 = np.dtype([(\"quint16\", np.uint16, 1)])\n",
      "C:\\Users\\Carlos pineda\\Anaconda3\\lib\\site-packages\\tensorboard\\compat\\tensorflow_stub\\dtypes.py:545: FutureWarning: Passing (type, 1) or '1type' as a synonym of type is deprecated; in a future version of numpy, it will be understood as (type, (1,)) / '(1,)type'.\n",
      "  _np_qint32 = np.dtype([(\"qint32\", np.int32, 1)])\n",
      "C:\\Users\\Carlos pineda\\Anaconda3\\lib\\site-packages\\tensorboard\\compat\\tensorflow_stub\\dtypes.py:550: FutureWarning: Passing (type, 1) or '1type' as a synonym of type is deprecated; in a future version of numpy, it will be understood as (type, (1,)) / '(1,)type'.\n",
      "  np_resource = np.dtype([(\"resource\", np.ubyte, 1)])\n"
     ]
    }
   ],
   "source": [
    "# se cargan las librerias\n",
    "from tensorflow.keras.layers import Flatten, Dense, Conv2D, MaxPooling2D, BatchNormalization\n",
    "from tensorflow.keras import Sequential\n",
    "from tensorflow.keras import regularizers, optimizers\n",
    "from tensorflow import keras"
   ]
  },
  {
   "cell_type": "code",
   "execution_count": 2,
   "metadata": {
    "id": "4LOFsKBnWT7c"
   },
   "outputs": [],
   "source": [
    "columnas = [\"blusa\" , \"pantalón\", \"chaqueta\", \"vestido\",\"corbata\",\"sandalia\", \n",
    "            \"sueter\",\"zapatilla\",\"bolso\",\"bota\"]"
   ]
  },
  {
   "cell_type": "code",
   "execution_count": 3,
   "metadata": {
    "id": "DPCJKzbFWXQT"
   },
   "outputs": [],
   "source": [
    "# se cargan los datos del dataset fashion mnist\n",
    "datos = keras.datasets.fashion_mnist\n",
    "(img_ent, eti_ent),  (img_pru, eti_pru) = datos.load_data()"
   ]
  },
  {
   "cell_type": "code",
   "execution_count": 4,
   "metadata": {
    "id": "TPso-QtfWZWj"
   },
   "outputs": [
    {
     "name": "stderr",
     "output_type": "stream",
     "text": [
      "In C:\\Users\\Carlos pineda\\Anaconda3\\lib\\site-packages\\matplotlib\\mpl-data\\stylelib\\_classic_test.mplstyle: \n",
      "The text.latex.unicode rcparam was deprecated in Matplotlib 3.0 and will be removed in 3.2.\n",
      "In C:\\Users\\Carlos pineda\\Anaconda3\\lib\\site-packages\\matplotlib\\mpl-data\\stylelib\\_classic_test.mplstyle: \n",
      "The savefig.frameon rcparam was deprecated in Matplotlib 3.1 and will be removed in 3.3.\n",
      "In C:\\Users\\Carlos pineda\\Anaconda3\\lib\\site-packages\\matplotlib\\mpl-data\\stylelib\\_classic_test.mplstyle: \n",
      "The pgf.debug rcparam was deprecated in Matplotlib 3.0 and will be removed in 3.2.\n",
      "In C:\\Users\\Carlos pineda\\Anaconda3\\lib\\site-packages\\matplotlib\\mpl-data\\stylelib\\_classic_test.mplstyle: \n",
      "The verbose.level rcparam was deprecated in Matplotlib 3.1 and will be removed in 3.3.\n",
      "In C:\\Users\\Carlos pineda\\Anaconda3\\lib\\site-packages\\matplotlib\\mpl-data\\stylelib\\_classic_test.mplstyle: \n",
      "The verbose.fileo rcparam was deprecated in Matplotlib 3.1 and will be removed in 3.3.\n"
     ]
    },
    {
     "data": {
      "text/plain": [
       "<matplotlib.image.AxesImage at 0x1dd46e14128>"
      ]
     },
     "execution_count": 4,
     "metadata": {},
     "output_type": "execute_result"
    },
    {
     "data": {
      "image/png": "[encoded data removed]",
      "text/plain": [
       "<Figure size 432x288 with 1 Axes>"
      ]
     },
     "metadata": {
      "needs_background": "light"
     },
     "output_type": "display_data"
    }
   ],
   "source": [
    "# se visualiza la imagen 0\n",
    "import matplotlib.pyplot as plt\n",
    "plt.imshow(img_ent[0], cmap=plt.cm.binary)"
   ]
  },
  {
   "cell_type": "code",
   "execution_count": 5,
   "metadata": {
    "id": "Ji4Df8C1WdDi"
   },
   "outputs": [
    {
     "name": "stderr",
     "output_type": "stream",
     "text": [
      "Using TensorFlow backend.\n"
     ]
    }
   ],
   "source": [
    "#preprocesado\n",
    "img_ent = img_ent.reshape((60000,28,28,1))\n",
    "img_pru = img_pru.reshape((10000,28,28,1))\n",
    "\n",
    "img_ent = img_ent.astype('float32') / 255\n",
    "img_pru = img_pru.astype('float32') / 255\n",
    "\n",
    "from keras.utils import to_categorical\n",
    "eti_ent = to_categorical(eti_ent , num_classes=10)\n",
    "eti_pru = to_categorical(eti_pru, num_classes=10)"
   ]
  },
  {
   "cell_type": "code",
   "execution_count": 6,
   "metadata": {
    "id": "ynIzfICiWhD_"
   },
   "outputs": [],
   "source": [
    "#definimos el model\n",
    "modelo = Sequential()\n",
    "modelo.add(Conv2D( 32, (5,5), activation='relu' , input_shape=(28,28,1) ))\n",
    "modelo.add(BatchNormalization())\n",
    "modelo.add(MaxPooling2D(2,2))\n",
    "\n",
    "modelo.add(Conv2D(64, (5,5), activation='relu'))\n",
    "modelo.add(BatchNormalization())\n",
    "modelo.add(MaxPooling2D(2, 2))\n",
    "\n",
    "modelo.add(keras.layers.Dropout(0.5))\n",
    "modelo.add(Flatten())\n",
    "modelo.add(Dense(10, activation='softmax'))"
   ]
  },
  {
   "cell_type": "code",
   "execution_count": 7,
   "metadata": {
    "id": "PHr2QwtpWkAx"
   },
   "outputs": [
    {
     "name": "stdout",
     "output_type": "stream",
     "text": [
      "Model: \"sequential\"\n",
      "_________________________________________________________________\n",
      "Layer (type)                 Output Shape              Param #   \n",
      "=================================================================\n",
      "conv2d (Conv2D)              (None, 24, 24, 32)        832       \n",
      "_________________________________________________________________\n",
      "batch_normalization (BatchNo (None, 24, 24, 32)        128       \n",
      "_________________________________________________________________\n",
      "max_pooling2d (MaxPooling2D) (None, 12, 12, 32)        0         \n",
      "_________________________________________________________________\n",
      "conv2d_1 (Conv2D)            (None, 8, 8, 64)          51264     \n",
      "_________________________________________________________________\n",
      "batch_normalization_1 (Batch (None, 8, 8, 64)          256       \n",
      "_________________________________________________________________\n",
      "max_pooling2d_1 (MaxPooling2 (None, 4, 4, 64)          0         \n",
      "_________________________________________________________________\n",
      "dropout (Dropout)            (None, 4, 4, 64)          0         \n",
      "_________________________________________________________________\n",
      "flatten (Flatten)            (None, 1024)              0         \n",
      "_________________________________________________________________\n",
      "dense (Dense)                (None, 10)                10250     \n",
      "=================================================================\n",
      "Total params: 62,730\n",
      "Trainable params: 62,538\n",
      "Non-trainable params: 192\n",
      "_________________________________________________________________\n",
      "None\n"
     ]
    }
   ],
   "source": [
    "print(modelo.summary())"
   ]
  },
  {
   "cell_type": "code",
   "execution_count": null,
   "metadata": {
    "id": "TYGKuHhIVlW7"
   },
   "outputs": [
    {
     "name": "stdout",
     "output_type": "stream",
     "text": [
      "Epoch 1/10\n",
      "1500/1500 [==============================] - 52s 35ms/step - loss: 0.5801 - accuracy: 0.8064 - val_loss: 0.3615 - val_accuracy: 0.8725\n",
      "Epoch 2/10\n",
      "1499/1500 [============================>.] - ETA: 0s - loss: 0.3886 - accuracy: 0.8628"
     ]
    }
   ],
   "source": [
    "# se compila y se entrena el modelo\n",
    "modelo.compile(optimizer='adam', loss='categorical_crossentropy' , metrics=['accuracy'] )\n",
    "historia = modelo.fit(img_ent, eti_ent , epochs=10, validation_split=0.2, verbose=1)"
   ]
  },
  {
   "cell_type": "code",
   "execution_count": null,
   "metadata": {
    "id": "9VT4_C6cWpUo"
   },
   "outputs": [],
   "source": [
    "# se grafican error durante el entrenamiento \n",
    "import pandas as pd\n",
    "datos = pd.DataFrame(historia.history)\n",
    "datos['epoca'] = historia.epoch\n",
    "\n",
    "plt.figure()\n",
    "plt.xlabel(\"epocas\")\n",
    "plt.ylabel(\"error entrenamiento\")\n",
    "plt.plot(datos['epoca'] , datos['loss'], label='entrenamiento')\n",
    "\n",
    "plt.plot(datos['epoca'] , datos['val_loss'], label='validación')\n",
    "plt.legend()\n",
    "plt.show()"
   ]
  },
  {
   "cell_type": "code",
   "execution_count": null,
   "metadata": {
    "id": "COivfgH2Wz50"
   },
   "outputs": [],
   "source": [
    "# evaluar la exactitud\n",
    "loss, exac = modelo.evaluate(img_pru , eti_pru)\n",
    "print(\"La exactitud es: \" , exac)\n"
   ]
  },
  {
   "cell_type": "code",
   "execution_count": null,
   "metadata": {
    "id": "6zQOOXX_X5gH"
   },
   "outputs": [],
   "source": [
    "from google.colab import files\n",
    "arc = files.upload()\n"
   ]
  },
  {
   "cell_type": "code",
   "execution_count": null,
   "metadata": {
    "id": "f0hWKKZkYm8v"
   },
   "outputs": [],
   "source": [
    "# mostramos la imagen\n",
    "import numpy as np\n",
    "from keras.preprocessing import image\n",
    "test_img = image.load_img(\"pantalon.jpg\", target_size=(28, 28))\n",
    "plt.imshow(test_img, cmap=plt.cm.binary)"
   ]
  },
  {
   "cell_type": "code",
   "execution_count": null,
   "metadata": {
    "id": "0Sp6hhN1YRHt"
   },
   "outputs": [],
   "source": [
    "# probamos la predicción con la imagen anterior\n",
    "test_img = image.img_to_array(test_img)\n",
    "test_img = test_img[:,:,1].reshape(1,28,28,1)\n",
    "test_img = test_img/255\n",
    "\n",
    "res = modelo.predict(test_img)\n",
    "print(\"Resultado predicción: \" , columnas[np.argmax(res)]) "
   ]
  }
 ],
 "metadata": {
  "accelerator": "GPU",
  "colab": {
   "name": "Ejemplo CNN.ipynb",
   "provenance": []
  },
  "kernelspec": {
   "display_name": "Python 3",
   "language": "python",
   "name": "python3"
  },
  "language_info": {
   "codemirror_mode": {
    "name": "ipython",
    "version": 3
   },
   "file_extension": ".py",
   "mimetype": "text/x-python",
   "name": "python",
   "nbconvert_exporter": "python",
   "pygments_lexer": "ipython3",
   "version": "3.7.3"
  },
  "toc": {
   "base_numbering": 1,
   "nav_menu": {},
   "number_sections": true,
   "sideBar": true,
   "skip_h1_title": false,
   "title_cell": "Table of Contents",
   "title_sidebar": "Contents",
   "toc_cell": false,
   "toc_position": {},
   "toc_section_display": true,
   "toc_window_display": false
  },
  "varInspector": {
   "cols": {
    "lenName": 16,
    "lenType": 16,
    "lenVar": 40
   },
   "kernels_config": {
    "python": {
     "delete_cmd_postfix": "",
     "delete_cmd_prefix": "del ",
     "library": "var_list.py",
     "varRefreshCmd": "print(var_dic_list())"
    },
    "r": {
     "delete_cmd_postfix": ") ",
     "delete_cmd_prefix": "rm(",
     "library": "var_list.r",
     "varRefreshCmd": "cat(var_dic_list()) "
    }
   },
   "types_to_exclude": [
    "module",
    "function",
    "builtin_function_or_method",
    "instance",
    "_Feature"
   ],
   "window_display": false
  }
 },
 "nbformat": 4,
 "nbformat_minor": 1
}
